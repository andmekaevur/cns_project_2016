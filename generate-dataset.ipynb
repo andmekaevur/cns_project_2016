{
 "cells": [
  {
   "cell_type": "code",
   "execution_count": 2,
   "metadata": {
    "collapsed": true
   },
   "outputs": [],
   "source": [
    "from scipy.io import loadmat\n",
    "import numpy as np"
   ]
  },
  {
   "cell_type": "code",
   "execution_count": 3,
   "metadata": {
    "collapsed": true
   },
   "outputs": [],
   "source": [
    "X_raw = loadmat(\"R2198_20ms.mat\")\n",
    "y_raw = np.loadtxt(\"R2198_locations.dat\")\n",
    "\n",
    "X_raw = X_raw['mm'].T"
   ]
  },
  {
   "cell_type": "code",
   "execution_count": 75,
   "metadata": {
    "collapsed": false
   },
   "outputs": [
    {
     "name": "stdout",
     "output_type": "stream",
     "text": [
      "generating data\n",
      "window 50, step 25\n",
      "uniform chunks\n",
      "(256, 3300) (2058, 3300) (256, 2) (2058, 2)\n"
     ]
    }
   ],
   "source": [
    "def generate_datasets(window=50, step=25, test_set_sampling='chunk', test_set_size=0.2, test_chunk_location=0.8):\n",
    "    print('generating data')\n",
    "    print('window {}, step {}'.format(window,step))\n",
    "    dataset_length = int(X_raw.shape[0]/step)\n",
    "    X = np.zeros((dataset_length, 2*window*33))\n",
    "    y = np.zeros((dataset_length, 2))\n",
    "\n",
    "    for filtered_i, data_i in enumerate(range(window, X_raw.shape[0]-window, step)):\n",
    "        X[filtered_i] = np.real(np.fft.fft(X_raw[data_i-window:data_i+window].T)).flatten()\n",
    "        y[filtered_i] = y_raw[data_i]\n",
    "\n",
    "#     X = X[window:-window]\n",
    "#     y = y[window:-window]\n",
    "    if test_set_sampling == 'uniform_chunks':\n",
    "        print('uniform chunks')\n",
    "        # refer to report for how this is calculated.         \n",
    "        test_set_size = 0.1\n",
    "        chunk_size = int(2*window/step)\n",
    "        test_set_length = int(dataset_length*test_set_size)\n",
    "        chunks_count = int(test_set_length/chunk_size)\n",
    "        chunk_step = int((dataset_length-chunk_size)/chunks_count)\n",
    "        test_chunks = [list(range(i*chunk_step, i*chunk_step + chunk_size)) for i in range(chunks_count)]\n",
    "        discard_chunks = [list(range(i*chunk_step - chunk_size, i*chunk_step)) for i in range(chunks_count)][1:]\n",
    "        # flatten chunk lists\n",
    "        test_chunks = sum(test_chunks, [])\n",
    "        discard_chunks = sum(discard_chunks, [])\n",
    "        test_and_discard_chunks = test_chunks + discard_chunks\n",
    "        X_test = X[test_chunks]\n",
    "        X_train = np.delete(X, test_and_discard_chunks, axis=0)\n",
    "        y_test = y[test_chunks]\n",
    "        y_train = np.delete(y, test_and_discard_chunks, axis=0)\n",
    "#         print(test_chunks)\n",
    "#         print(discard_chunks)\n",
    "#         print(test_and_discard_chunks)\n",
    "#         print(sum(chunks, []))\n",
    "#         return\n",
    "    if test_set_sampling == 'chunk':\n",
    "        print('sampling with a chunk, size {}, location {}'.format(test_set_size, test_chunk_location))\n",
    "        test_set_start = int(dataset_length*test_chunk_location)\n",
    "        test_set_end = test_set_start + int(dataset_length*test_set_size)\n",
    "        print('indexes {}:{}'.format(test_set_start, test_set_end))\n",
    "        test_chunk = np.arange(test_set_start, test_set_end)\n",
    "        X_test = X[test_chunk]\n",
    "        X_train = np.delete(X, test_chunk, axis=0)\n",
    "        y_test = y[test_chunk]\n",
    "        y_train = np.delete(y, test_chunk, axis=0)\n",
    "    if test_set_sampling == 'random':\n",
    "        print('random test set, probably not a good option here')\n",
    "        X_train, X_test, y_train, y_test = train_test_split(X, y, test_size=test_set_size, random_state=0)\n",
    "    print(X_test.shape, X_train.shape, y_test.shape, y_train.shape)\n",
    "    return X_test, X_train, y_test, y_train\n",
    "\n",
    "X_test, X_train, y_test, y_train = generate_datasets(test_set_sampling='uniform_chunks')"
   ]
  },
  {
   "cell_type": "code",
   "execution_count": 76,
   "metadata": {
    "collapsed": false
   },
   "outputs": [
    {
     "name": "stdout",
     "output_type": "stream",
     "text": [
      "generating data\n",
      "window 50, step 25\n",
      "uniform chunks\n",
      "(256, 3300) (2058, 3300) (256, 2) (2058, 2)\n"
     ]
    }
   ],
   "source": [
    "X_test, X_train, y_test, y_train = generate_datasets(test_set_sampling='uniform_chunks')"
   ]
  },
  {
   "cell_type": "code",
   "execution_count": 63,
   "metadata": {
    "collapsed": false
   },
   "outputs": [
    {
     "data": {
      "text/plain": [
       "(array([0, 1, 2, 3, 4, 5, 6, 7, 8, 9]), array([2, 3, 4]))"
      ]
     },
     "execution_count": 63,
     "metadata": {},
     "output_type": "execute_result"
    }
   ],
   "source": [
    "asd = np.arange(10)\n",
    "\n",
    "ert = np.delete(asd, [9, 1])\n",
    "asd, ert[[1,2,3]]"
   ]
  },
  {
   "cell_type": "code",
   "execution_count": 28,
   "metadata": {
    "collapsed": false
   },
   "outputs": [
    {
     "data": {
      "text/plain": [
       "array([4, 5, 6, 7, 8, 9])"
      ]
     },
     "execution_count": 28,
     "metadata": {},
     "output_type": "execute_result"
    }
   ],
   "source": [
    "np.arange(4,10)"
   ]
  },
  {
   "cell_type": "code",
   "execution_count": 67,
   "metadata": {
    "collapsed": false
   },
   "outputs": [
    {
     "data": {
      "text/plain": [
       "array([[0, 1, 2],\n",
       "       [6, 7, 8]])"
      ]
     },
     "execution_count": 67,
     "metadata": {},
     "output_type": "execute_result"
    }
   ],
   "source": [
    "np.arange(9).reshape((3,3))[np.array([0,2])]"
   ]
  }
 ],
 "metadata": {
  "kernelspec": {
   "display_name": "Python 3",
   "language": "python",
   "name": "python3"
  },
  "language_info": {
   "codemirror_mode": {
    "name": "ipython",
    "version": 3
   },
   "file_extension": ".py",
   "mimetype": "text/x-python",
   "name": "python",
   "nbconvert_exporter": "python",
   "pygments_lexer": "ipython3",
   "version": "3.4.3"
  }
 },
 "nbformat": 4,
 "nbformat_minor": 0
}
