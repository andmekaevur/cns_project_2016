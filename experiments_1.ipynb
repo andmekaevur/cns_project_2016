{
 "cells": [
  {
   "cell_type": "code",
   "execution_count": 80,
   "metadata": {
    "collapsed": false
   },
   "outputs": [],
   "source": [
    "%matplotlib inline\n",
    "\n",
    "import matplotlib.pyplot as plt\n",
    "from scipy.io import loadmat\n",
    "import numpy as np\n",
    "from tqdm import tqdm\n",
    "from sklearn.model_selection import cross_val_score\n",
    "from sklearn.ensemble import RandomForestRegressor, ExtraTreesRegressor\n",
    "from sklearn.dummy import DummyRegressor\n",
    "from sklearn.linear_model import LinearRegression\n",
    "from sklearn.model_selection import train_test_split\n",
    "from sklearn.metrics import mean_absolute_error, mean_squared_error"
   ]
  },
  {
   "cell_type": "code",
   "execution_count": 3,
   "metadata": {
    "collapsed": false
   },
   "outputs": [],
   "source": [
    "X_raw = loadmat(\"R2198_20ms.mat\")\n",
    "y_raw = np.loadtxt(\"R2198_locations.dat\")\n",
    "\n",
    "X_raw = X_raw['mm'].T"
   ]
  },
  {
   "cell_type": "code",
   "execution_count": 108,
   "metadata": {
    "collapsed": true
   },
   "outputs": [],
   "source": [
    "def generate_datasets(n, fft):\n",
    "    print(n, 'fft:', fft)\n",
    "    X = np.zeros((X_raw.shape[0],2*n*33))\n",
    "    y = np.zeros(y_raw.shape)\n",
    "#     for i in tqdm(range(n, X_raw.shape[0]-n)):\n",
    "    for i in range(n, X_raw.shape[0]-n):\n",
    "        if fft:\n",
    "            X[i] = np.real(np.fft.fft(X_raw[i-n:i+n].T)).flatten()\n",
    "        else:\n",
    "            X[i] = X_raw[i-n:i+n].flatten(order='F')\n",
    "        y[i] = y_raw[i]\n",
    "\n",
    "    X = X[n:-n]\n",
    "    y = y[n:-n]\n",
    "\n",
    "#     X_train, X_test, y_train, y_test = train_test_split(X, y, test_size=0.2, random_state=0)\n",
    "    return train_test_split(X, y, test_size=0.2, random_state=0)"
   ]
  },
  {
   "cell_type": "code",
   "execution_count": 110,
   "metadata": {
    "collapsed": false
   },
   "outputs": [
    {
     "name": "stdout",
     "output_type": "stream",
     "text": [
      "10 fft: False\n",
      "[{'model': 'RandomForestRegressor', 'time_window': 10, 'MAE': 14.839382530709283, 'fft': False}]\n",
      "[{'model': 'RandomForestRegressor', 'time_window': 10, 'MAE': 14.839382530709283, 'fft': False}, {'model': 'ExtraTreesRegressor', 'time_window': 10, 'MAE': 15.151198991883073, 'fft': False}]\n",
      "[{'model': 'RandomForestRegressor', 'time_window': 10, 'MAE': 14.839382530709283, 'fft': False}, {'model': 'ExtraTreesRegressor', 'time_window': 10, 'MAE': 15.151198991883073, 'fft': False}, {'model': 'LinearRegression', 'time_window': 10, 'MAE': 15.835587966171499, 'fft': False}]\n",
      "20 fft: False\n",
      "[{'model': 'RandomForestRegressor', 'time_window': 10, 'MAE': 14.839382530709283, 'fft': False}, {'model': 'ExtraTreesRegressor', 'time_window': 10, 'MAE': 15.151198991883073, 'fft': False}, {'model': 'LinearRegression', 'time_window': 10, 'MAE': 15.835587966171499, 'fft': False}, {'model': 'RandomForestRegressor', 'time_window': 20, 'MAE': 13.95617703658775, 'fft': False}]\n",
      "[{'model': 'RandomForestRegressor', 'time_window': 10, 'MAE': 14.839382530709283, 'fft': False}, {'model': 'ExtraTreesRegressor', 'time_window': 10, 'MAE': 15.151198991883073, 'fft': False}, {'model': 'LinearRegression', 'time_window': 10, 'MAE': 15.835587966171499, 'fft': False}, {'model': 'RandomForestRegressor', 'time_window': 20, 'MAE': 13.95617703658775, 'fft': False}, {'model': 'ExtraTreesRegressor', 'time_window': 20, 'MAE': 13.927951653802676, 'fft': False}]\n",
      "[{'model': 'RandomForestRegressor', 'time_window': 10, 'MAE': 14.839382530709283, 'fft': False}, {'model': 'ExtraTreesRegressor', 'time_window': 10, 'MAE': 15.151198991883073, 'fft': False}, {'model': 'LinearRegression', 'time_window': 10, 'MAE': 15.835587966171499, 'fft': False}, {'model': 'RandomForestRegressor', 'time_window': 20, 'MAE': 13.95617703658775, 'fft': False}, {'model': 'ExtraTreesRegressor', 'time_window': 20, 'MAE': 13.927951653802676, 'fft': False}, {'model': 'LinearRegression', 'time_window': 20, 'MAE': 14.767973975906138, 'fft': False}]\n",
      "50 fft: False\n",
      "[{'model': 'RandomForestRegressor', 'time_window': 10, 'MAE': 14.839382530709283, 'fft': False}, {'model': 'ExtraTreesRegressor', 'time_window': 10, 'MAE': 15.151198991883073, 'fft': False}, {'model': 'LinearRegression', 'time_window': 10, 'MAE': 15.835587966171499, 'fft': False}, {'model': 'RandomForestRegressor', 'time_window': 20, 'MAE': 13.95617703658775, 'fft': False}, {'model': 'ExtraTreesRegressor', 'time_window': 20, 'MAE': 13.927951653802676, 'fft': False}, {'model': 'LinearRegression', 'time_window': 20, 'MAE': 14.767973975906138, 'fft': False}, {'model': 'RandomForestRegressor', 'time_window': 50, 'MAE': 13.174385019039136, 'fft': False}]\n",
      "[{'model': 'RandomForestRegressor', 'time_window': 10, 'MAE': 14.839382530709283, 'fft': False}, {'model': 'ExtraTreesRegressor', 'time_window': 10, 'MAE': 15.151198991883073, 'fft': False}, {'model': 'LinearRegression', 'time_window': 10, 'MAE': 15.835587966171499, 'fft': False}, {'model': 'RandomForestRegressor', 'time_window': 20, 'MAE': 13.95617703658775, 'fft': False}, {'model': 'ExtraTreesRegressor', 'time_window': 20, 'MAE': 13.927951653802676, 'fft': False}, {'model': 'LinearRegression', 'time_window': 20, 'MAE': 14.767973975906138, 'fft': False}, {'model': 'RandomForestRegressor', 'time_window': 50, 'MAE': 13.174385019039136, 'fft': False}, {'model': 'ExtraTreesRegressor', 'time_window': 50, 'MAE': 12.942691022044441, 'fft': False}]\n",
      "[{'model': 'RandomForestRegressor', 'time_window': 10, 'MAE': 14.839382530709283, 'fft': False}, {'model': 'ExtraTreesRegressor', 'time_window': 10, 'MAE': 15.151198991883073, 'fft': False}, {'model': 'LinearRegression', 'time_window': 10, 'MAE': 15.835587966171499, 'fft': False}, {'model': 'RandomForestRegressor', 'time_window': 20, 'MAE': 13.95617703658775, 'fft': False}, {'model': 'ExtraTreesRegressor', 'time_window': 20, 'MAE': 13.927951653802676, 'fft': False}, {'model': 'LinearRegression', 'time_window': 20, 'MAE': 14.767973975906138, 'fft': False}, {'model': 'RandomForestRegressor', 'time_window': 50, 'MAE': 13.174385019039136, 'fft': False}, {'model': 'ExtraTreesRegressor', 'time_window': 50, 'MAE': 12.942691022044441, 'fft': False}, {'model': 'LinearRegression', 'time_window': 50, 'MAE': 13.046709483685525, 'fft': False}]\n",
      "75 fft: False\n",
      "[{'model': 'RandomForestRegressor', 'time_window': 10, 'MAE': 14.839382530709283, 'fft': False}, {'model': 'ExtraTreesRegressor', 'time_window': 10, 'MAE': 15.151198991883073, 'fft': False}, {'model': 'LinearRegression', 'time_window': 10, 'MAE': 15.835587966171499, 'fft': False}, {'model': 'RandomForestRegressor', 'time_window': 20, 'MAE': 13.95617703658775, 'fft': False}, {'model': 'ExtraTreesRegressor', 'time_window': 20, 'MAE': 13.927951653802676, 'fft': False}, {'model': 'LinearRegression', 'time_window': 20, 'MAE': 14.767973975906138, 'fft': False}, {'model': 'RandomForestRegressor', 'time_window': 50, 'MAE': 13.174385019039136, 'fft': False}, {'model': 'ExtraTreesRegressor', 'time_window': 50, 'MAE': 12.942691022044441, 'fft': False}, {'model': 'LinearRegression', 'time_window': 50, 'MAE': 13.046709483685525, 'fft': False}, {'model': 'RandomForestRegressor', 'time_window': 75, 'MAE': 12.934078491536052, 'fft': False}]\n",
      "[{'model': 'RandomForestRegressor', 'time_window': 10, 'MAE': 14.839382530709283, 'fft': False}, {'model': 'ExtraTreesRegressor', 'time_window': 10, 'MAE': 15.151198991883073, 'fft': False}, {'model': 'LinearRegression', 'time_window': 10, 'MAE': 15.835587966171499, 'fft': False}, {'model': 'RandomForestRegressor', 'time_window': 20, 'MAE': 13.95617703658775, 'fft': False}, {'model': 'ExtraTreesRegressor', 'time_window': 20, 'MAE': 13.927951653802676, 'fft': False}, {'model': 'LinearRegression', 'time_window': 20, 'MAE': 14.767973975906138, 'fft': False}, {'model': 'RandomForestRegressor', 'time_window': 50, 'MAE': 13.174385019039136, 'fft': False}, {'model': 'ExtraTreesRegressor', 'time_window': 50, 'MAE': 12.942691022044441, 'fft': False}, {'model': 'LinearRegression', 'time_window': 50, 'MAE': 13.046709483685525, 'fft': False}, {'model': 'RandomForestRegressor', 'time_window': 75, 'MAE': 12.934078491536052, 'fft': False}, {'model': 'ExtraTreesRegressor', 'time_window': 75, 'MAE': 12.766883091987818, 'fft': False}]\n",
      "[{'model': 'RandomForestRegressor', 'time_window': 10, 'MAE': 14.839382530709283, 'fft': False}, {'model': 'ExtraTreesRegressor', 'time_window': 10, 'MAE': 15.151198991883073, 'fft': False}, {'model': 'LinearRegression', 'time_window': 10, 'MAE': 15.835587966171499, 'fft': False}, {'model': 'RandomForestRegressor', 'time_window': 20, 'MAE': 13.95617703658775, 'fft': False}, {'model': 'ExtraTreesRegressor', 'time_window': 20, 'MAE': 13.927951653802676, 'fft': False}, {'model': 'LinearRegression', 'time_window': 20, 'MAE': 14.767973975906138, 'fft': False}, {'model': 'RandomForestRegressor', 'time_window': 50, 'MAE': 13.174385019039136, 'fft': False}, {'model': 'ExtraTreesRegressor', 'time_window': 50, 'MAE': 12.942691022044441, 'fft': False}, {'model': 'LinearRegression', 'time_window': 50, 'MAE': 13.046709483685525, 'fft': False}, {'model': 'RandomForestRegressor', 'time_window': 75, 'MAE': 12.934078491536052, 'fft': False}, {'model': 'ExtraTreesRegressor', 'time_window': 75, 'MAE': 12.766883091987818, 'fft': False}, {'model': 'LinearRegression', 'time_window': 75, 'MAE': 12.462016368181864, 'fft': False}]\n"
     ]
    }
   ],
   "source": [
    "results = []\n",
    "models = [RandomForestRegressor(n_jobs=-1, verbose=0), \n",
    "            ExtraTreesRegressor(n_jobs=-1, verbose=0), \n",
    "            LinearRegression(n_jobs=-1)]\n",
    "\n",
    "time_window = 10\n",
    "for time_window in [10,20,50,75]:\n",
    "# for time_window in [85]:\n",
    "\n",
    "    use_fft = False\n",
    "    X_train, X_test, y_train, y_test = generate_datasets(time_window, fft=use_fft)\n",
    "\n",
    "    for clf in models:\n",
    "        clf.fit(X_train, y_train)\n",
    "        results.append({'time_window': time_window,\n",
    "                        'fft': use_fft, \n",
    "                        'MAE': mean_absolute_error(clf.predict(X_test), y_test),\n",
    "                        'model': clf.__class__.__name__})\n",
    "        print(results)"
   ]
  }
 ],
 "metadata": {
  "anaconda-cloud": {},
  "kernelspec": {
   "display_name": "Python 3",
   "language": "python",
   "name": "python3"
  },
  "language_info": {
   "codemirror_mode": {
    "name": "ipython",
    "version": 3
   },
   "file_extension": ".py",
   "mimetype": "text/x-python",
   "name": "python",
   "nbconvert_exporter": "python",
   "pygments_lexer": "ipython3",
   "version": "3.4.3"
  }
 },
 "nbformat": 4,
 "nbformat_minor": 1
}
